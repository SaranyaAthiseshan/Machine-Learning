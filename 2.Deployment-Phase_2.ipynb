{
 "cells": [
  {
   "cell_type": "code",
   "execution_count": 1,
   "id": "e5645cf1-79d0-4d11-8abf-fa1f37f0b6d9",
   "metadata": {},
   "outputs": [],
   "source": [
    "#this is the deployment model to deliver the data for the client\n",
    "#here import the pickle library for call for the functions\n",
    "import pickle"
   ]
  },
  {
   "cell_type": "code",
   "execution_count": 4,
   "id": "adf4a592-d562-4fcc-87a4-47990923df56",
   "metadata": {},
   "outputs": [
    {
     "name": "stderr",
     "output_type": "stream",
     "text": [
      "C:\\Users\\saran\\anaconda3\\Lib\\site-packages\\sklearn\\base.py:493: UserWarning: X does not have valid feature names, but LinearRegression was fitted with feature names\n",
      "  warnings.warn(\n"
     ]
    }
   ],
   "source": [
    "#already defined function is called here, because the test model is in the same path, will not be defined of all detailed programs to the client\n",
    "loaded_model=pickle.load(open(\"finalized_model_linear.sav\",'rb'))\n",
    "#the loaded model is assigned to the result variable and test the model to change the value of the predict paramaterized value. Here the test model is checking for the 25 years of salary\n",
    "result=loaded_model.predict([[25]])\n",
    "#can skipe the below message"
   ]
  },
  {
   "cell_type": "code",
   "execution_count": 5,
   "id": "4287347d-be79-4563-a2a0-7fa69965454d",
   "metadata": {},
   "outputs": [
    {
     "data": {
      "text/plain": [
       "array([[260783.92349604]])"
      ]
     },
     "execution_count": 5,
     "metadata": {},
     "output_type": "execute_result"
    }
   ],
   "source": [
    "#call the functions\n",
    "result\n",
    "#get the result"
   ]
  },
  {
   "cell_type": "code",
   "execution_count": null,
   "id": "9637d422-e2d5-4cc3-b65e-6a29cad8471c",
   "metadata": {},
   "outputs": [],
   "source": []
  }
 ],
 "metadata": {
  "kernelspec": {
   "display_name": "Python 3 (ipykernel)",
   "language": "python",
   "name": "python3"
  },
  "language_info": {
   "codemirror_mode": {
    "name": "ipython",
    "version": 3
   },
   "file_extension": ".py",
   "mimetype": "text/x-python",
   "name": "python",
   "nbconvert_exporter": "python",
   "pygments_lexer": "ipython3",
   "version": "3.12.4"
  }
 },
 "nbformat": 4,
 "nbformat_minor": 5
}
